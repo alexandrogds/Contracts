{
 "cells": [
  {
   "cell_type": "code",
   "execution_count": 15,
   "metadata": {},
   "outputs": [],
   "source": [
    "__updated__ = ''"
   ]
  },
  {
   "cell_type": "markdown",
   "metadata": {},
   "source": [
    "1. Dimenssões são paramêtros para as funções que calculam o estado.\n",
    "2. Toda grandeza tem valores variáveis a depender do estado.\n",
    "3. Toda propriedade tem valores fixos independente do estado.\n",
    "4. Toda grandeza tem em cada partícula sua respectiva propriedade intrínseca.\n",
    "5. O estado são todos os valores quando ocorre uma medição."
   ]
  },
  {
   "cell_type": "code",
   "execution_count": 16,
   "metadata": {},
   "outputs": [],
   "source": [
    "class Class():\n",
    "\tdef __init__(self, name):\n",
    "\t\tself.name = name"
   ]
  },
  {
   "cell_type": "code",
   "execution_count": 17,
   "metadata": {},
   "outputs": [],
   "source": [
    "class Unity():\n",
    "\tspin = 'ħ'\n",
    "\tmagnetic = 'A.m²|J/T|eV/T'\n",
    "\tmass = 'eV/c²'"
   ]
  },
  {
   "cell_type": "code",
   "execution_count": 18,
   "metadata": {},
   "outputs": [],
   "source": [
    "class Dimensions():\n",
    "\tpass"
   ]
  },
  {
   "cell_type": "code",
   "execution_count": 19,
   "metadata": {},
   "outputs": [],
   "source": [
    "class Grandezas():\n",
    "\tmomentun_angular_orbital = None\n",
    "\tmomento_linear = lambda mass, speed: mass * speed\n",
    "\tmomento_angular = None\n",
    "\tmagnetical_orbital = None"
   ]
  },
  {
   "cell_type": "code",
   "execution_count": 20,
   "metadata": {},
   "outputs": [],
   "source": [
    "class Properties():\n",
    "\tposition = 0, 0\n",
    "\trotation = {'speed': None}\n",
    "\tcolor = 'color'\n",
    "\teletrical = True # e\n",
    "\tmagnetical = True # Partículas com spin inteiro: Partículas com spin inteiro, como os fótons, têm um momento magnético intrínseco. Isso significa que elas interagem com campos magnéticos externos como pequenos ímãs. Quando expostas a um campo magnético externo, essas partículas têm uma tendência a alinhar seu momento magnético na direção do campo, ou na direção oposta, dependendo de suas propriedades específicas. Partículas com spin inteiro obedecem à estatística de Bose-Einstein.\n",
    "\tmagnetical_orbital = 'magnetical_orbital'\n",
    "\tspin = 'spin (ħ)' # momento angular intrinseco\n",
    "\tpolarization = '' # descreve a orientação preferencial de um vetor de momento angular ou de oscilação. Essa propriedade pode ter algumas semelhanças com o spin, mas não abrange todas as suas características.\n",
    "\tquantun_spin = 'quantun_spin'\n",
    "\tmomentum_angular_orbital = 'translacao' # grandezas\n",
    "\tmomentum_angular_intriseco = '' #foton(polarizacao da luz)=A luz polarizada é caracterizada por ter um plano preferencial de oscilação de suas ondas e pode se comportar de maneira análoga ao spin, embora se refira ao comportamento coletivo da luz em vez de uma propriedade intrínseca de partículas individuais. #Momento Angular Total em Sistemas Compostos: Em sistemas compostos, como moléculas e núcleos atômicos, o momento angular total das partículas constituintes pode ser uma combinação de movimentos orbitais e intrínsecos, que podem se assemelhar ao spin em certos aspectos. # Partículas com spin semi-inteiro: Partículas com spin semi-inteiro, como elétrons, prótons e nêutrons, têm momentos magnéticos intrínsecos também. No entanto, essas partículas também possuem um momento angular intrínseco adicional devido ao seu spin, que é proporcional ao seu momento magnético. Portanto, além de interagirem com campos magnéticos externos como pequenos ímãs, elas também possuem um comportamento de \"giro\" em torno do campo magnético externo. Partículas com spin semi-inteiro obedecem à estatística de Fermi-Dirac e seguem o princípio de exclusão de Pauli.\n",
    "\tmomentum_linear = '' #Ele descreve o quanto uma partícula está se movendo em uma determinada direção.\n",
    "\tmass = '' # higgs\n",
    "\talign_magnetic = True # reply to extern\n",
    "\talign_eletric = True # reply to extern\n",
    "\talign_fraco = ''\n",
    "\talign_forte = ''\n",
    "\talign_gravit = True # only Fermius? *mass\n",
    "\tisospin = 'isospin' #unity ħ/2\n",
    "\tinteract_eletrical = True # with extern\n",
    "\tinteract_magnetical = True\n",
    "\tinteract_fraco = 'a descobrir'\n",
    "\tinteract_forte = 'a descobrir'\n",
    "\tinteract_gravit = 'a descobrir'\n",
    "\tsabor = '' #quarks, leptons, interact fracas... diff sabor = diff mass = diff interact\n",
    "\tvibrat = None # def mass, loads, others properties\n",
    "\topened = None # corda\n",
    "\tsize = None\n",
    "\tsupersimetria = None #quantic -> gravit | spin to spin (all diff values)\n",
    "\tsuperposicao = '' #A superposição permite que partículas estejam em estados misturados\n",
    "\tentrelaçamento = '' #implica que o estado de uma partícula está relacionado ao estado de outra, mesmo que estejam separadas por grandes distâncias.\n",
    "\tminor_scale_space_time = 1,6 * (10**-35)"
   ]
  },
  {
   "cell_type": "code",
   "execution_count": 21,
   "metadata": {},
   "outputs": [],
   "source": [
    "class Spin():\n",
    "\t\"\"\"informação sobre a resistencia ao arrasto da materia em volta do corpo\n",
    "\tspin representa a quantidade de fatias vazias?\n",
    "\tmeu spin=tamanho medio da fatia vazia\n",
    "\tspin da fisica classica=(ticks-$(espaço ocupado por materia))?\n",
    "\tspin do sistema solar em 2023=2...spin classico 1.5\n",
    "\tspin da fisica quantica=\n",
    "\tspins inteiros=quantidade de fatias de espaço vazio=tiks\n",
    "\tO spin do sistema solar é .5\n",
    "\tEu defino o spin com ticks\n",
    "\tticks = linhas de concentração de materia do limite do sistema ate o centro (sol)\n",
    "\t0 tick = 1/0=infinito spin = sem materia... fisica quantica=0\n",
    "\t1 tick = 1 spin.....fisica quantica=1?.5?\n",
    "\t2 ticks = .5 spin...fisica quantica=.5?1?\n",
    "\t3 ticks = .33 spin...fisica quantica=1.5\n",
    "\tcheia de materia = infitos ticks = 1/infinito=0 spin\n",
    "\tspin pode ter relação com velocidade de rotação e raio de ação do arrasto que pode definir o tamanho do sistema\n",
    "\teu defino o sinal do spin como o sentido de rotação do centro (sol)\n",
    "\t\"\"\"\n",
    "\tpaulin = '%1==.5'\n",
    "\tinteger = '%1==0'\n",
    "\tdef __init__(self, _0):\n",
    "\t\tself.unity = Unity.spin\n",
    "\t\tif _0 == 'quark':\n",
    "\t\t\tself.value = 1/2\n",
    "\t\t\tself.type = self.paulin\n",
    "\t\telif _0 == 'boson':\n",
    "\t\t\tself.type = self.integer\n",
    "\t\tif self.value%1 == .5:\n",
    "\t\t\tself.paulin = True"
   ]
  },
  {
   "cell_type": "code",
   "execution_count": 22,
   "metadata": {},
   "outputs": [],
   "source": [
    "class Color():\n",
    "    pass"
   ]
  },
  {
   "cell_type": "code",
   "execution_count": 23,
   "metadata": {},
   "outputs": [],
   "source": [
    "class Forces():\n",
    "  fraca = None\n",
    "  forte = None\n",
    "  eletric = None\n",
    "  magnetic = None\n",
    "  gravit = None"
   ]
  },
  {
   "cell_type": "code",
   "execution_count": 24,
   "metadata": {},
   "outputs": [],
   "source": [
    "# Usar essa versão quando tiver muita memória em mente para economizar linhas de código\n",
    "class Particle():\n",
    "\tdef __init__(self, *args, **wargs):\n",
    "\t\t\"\"\"\n",
    "\t\targs are subparticles name\n",
    "\t\twargs are properties\n",
    "\t\t\"\"\"\n",
    "\t\tself.__dict__.update(**wargs)\n",
    "\t\twargs = {}\n",
    "\t\tfor arg in args:\n",
    "\t\t\twargs.update({arg: self})\n",
    "\t\tself.SubParticles(wargs)\n",
    "\tclass SubParticles():\n",
    "\t\tdef __init__(self, *args, **wargs):\n",
    "\t\t\tself.__dict__.update(**wargs)\n",
    "Boson = Particle('w', 'z')"
   ]
  },
  {
   "cell_type": "code",
   "execution_count": 25,
   "metadata": {},
   "outputs": [
    {
     "data": {
      "text/plain": [
       "<__main__.Boson at 0x71bc800c6270>"
      ]
     },
     "execution_count": 25,
     "metadata": {},
     "output_type": "execute_result"
    }
   ],
   "source": [
    "class Boson():\n",
    "\tclass Properties():\n",
    "\t\tcolor = False\n",
    "\t\tentrelaçamento = True\n",
    "\t\tisospin = False\n",
    "\t\tposition = None\n",
    "\t\tclass Forces():\n",
    "\t\t\tclass Fraca():\n",
    "\t\t\t\talign = Properties.align_fraco\n",
    "\t\t\t\tinteract = Properties.interact_fraco\n",
    "\t\t\t\tvalue = None\n",
    "\t\t\t\tminor_scale_space_time = None\n",
    "\t\t\t\tmax_scale_space_time = None\n",
    "\t\t\tclass Forte():\n",
    "\t\t\t\talign = Properties.align_forte\n",
    "\t\t\t\tinteract = Properties.interact_forte\n",
    "\t\t\t\tvalue = None\n",
    "\t\t\t\tminor_scale_space_time = None\n",
    "\t\t\t\tmax_scale_space_time = None\n",
    "\t\t\tclass Eletric():\n",
    "\t\t\t\talign = Properties.align_eletric\n",
    "\t\t\t\tinteract = Properties.interact_eletrical\n",
    "\t\t\t\tvalue = None\n",
    "\t\t\t\tminor_scale_space_time = None\n",
    "\t\t\t\tmax_scale_space_time = None\n",
    "\t\t\tclass Magnetc():\n",
    "\t\t\t\talign = Properties.align_magnetic\n",
    "\t\t\t\tinteract = Properties.interact_magnetical\n",
    "\t\t\t\tvalue = None\n",
    "\t\t\t\tminor_scale_space_time = None\n",
    "\t\t\t\tmax_scale_space_time = None\n",
    "\t\t\tclass Gravit():\n",
    "\t\t\t\talign = Properties.align_gravit\n",
    "\t\t\t\tinteract = Properties.interact_gravit\n",
    "\t\t\t\tvalue = None\n",
    "\t\t\t\tminor_scale_space_time = 10**-35\n",
    "\t\t\t\tmax_scale_space_time = None\n",
    "\t\tclass Grandezas():\n",
    "\t\t\tmass = None\n",
    "\t\t\tmomento_linear = None\n",
    "\t\t\tmomentun_angular_orbital = None\n",
    "\t\t\tmomentum_angular = None\n",
    "\t\t\tmagnetical_orbital = None\n",
    "\tclass SubParticles():\n",
    "\t\tw = Class('w')\n",
    "\t\tz = Class('z')\n",
    "\t\tfotons = Class('fotons')\n",
    "\t\tgluons = Class('gluons')\n",
    "\t\tgravitons = Class('gravitons')\n",
    "\t\thiggs = None\n",
    "class Fermions():\n",
    "\tclass Particles():\n",
    "\t\tpass\n",
    "\tspin = Spin.paulin\n",
    "Boson()"
   ]
  },
  {
   "cell_type": "code",
   "execution_count": 26,
   "metadata": {},
   "outputs": [],
   "source": [
    "def particle_generator(_0, _1, _2, _3, _4=[]):\n",
    "\treturn {\n",
    "\t\t'type': _0, 'sub_type': _1,\n",
    "    Properties.spin     : {'value': Spin(_0), 'unity': Unity.spin},\n",
    "\t  Properties.mass     : {'value': _2, 'unity': 'MeV/c^2'},\n",
    "\t  Properties.eletrical: {'value': _3, 'unity': 'e'},\n",
    "    'afinity' : _4\n",
    "\t}"
   ]
  },
  {
   "cell_type": "code",
   "execution_count": 27,
   "metadata": {},
   "outputs": [
    {
     "ename": "TypeError",
     "evalue": "particle_generator() missing 3 required positional arguments: '_1', '_2', and '_3'",
     "output_type": "error",
     "traceback": [
      "\u001b[0;31m---------------------------------------------------------------------------\u001b[0m",
      "\u001b[0;31mTypeError\u001b[0m                                 Traceback (most recent call last)",
      "Cell \u001b[0;32mIn[27], line 2\u001b[0m\n\u001b[1;32m      1\u001b[0m particles  \u001b[38;5;241m=\u001b[39m []\n\u001b[0;32m----> 2\u001b[0m particles \u001b[38;5;241m+\u001b[39m\u001b[38;5;241m=\u001b[39m [\u001b[43mparticle_generator\u001b[49m\u001b[43m(\u001b[49m\u001b[43m[\u001b[49m\u001b[43m  \u001b[49m\u001b[38;5;124;43m'\u001b[39;49m\u001b[38;5;124;43mquark\u001b[39;49m\u001b[38;5;124;43m'\u001b[39;49m\u001b[43m,\u001b[49m\u001b[43m       \u001b[49m\u001b[38;5;124;43m'\u001b[39;49m\u001b[38;5;124;43mup\u001b[39;49m\u001b[38;5;124;43m'\u001b[39;49m\u001b[43m,\u001b[49m\u001b[43m  \u001b[49m\u001b[38;5;241;43m2.3\u001b[39;49m\u001b[43m,\u001b[49m\u001b[43m \u001b[49m\u001b[38;5;241;43m+\u001b[39;49m\u001b[38;5;241;43m2\u001b[39;49m\u001b[38;5;241;43m/\u001b[39;49m\u001b[38;5;241;43m3\u001b[39;49m\u001b[43m,\u001b[49m\u001b[43m \u001b[49m\u001b[43m[\u001b[49m\u001b[43mBoson\u001b[49m\u001b[38;5;241;43m.\u001b[39;49m\u001b[43mSubParticles\u001b[49m\u001b[38;5;241;43m.\u001b[39;49m\u001b[43mgluons\u001b[49m\u001b[43m]\u001b[49m\u001b[43m]\u001b[49m\u001b[43m)\u001b[49m]\n\u001b[1;32m      3\u001b[0m particles \u001b[38;5;241m+\u001b[39m\u001b[38;5;241m=\u001b[39m [particle_generator([  \u001b[38;5;124m'\u001b[39m\u001b[38;5;124mquark\u001b[39m\u001b[38;5;124m'\u001b[39m,     \u001b[38;5;124m'\u001b[39m\u001b[38;5;124mdown\u001b[39m\u001b[38;5;124m'\u001b[39m,  \u001b[38;5;241m4.8\u001b[39m, \u001b[38;5;241m-\u001b[39m\u001b[38;5;241m1\u001b[39m\u001b[38;5;241m/\u001b[39m\u001b[38;5;241m3\u001b[39m, [Boson\u001b[38;5;241m.\u001b[39mSubParticles\u001b[38;5;241m.\u001b[39mgluons]])]\n\u001b[1;32m      4\u001b[0m particles \u001b[38;5;241m+\u001b[39m\u001b[38;5;241m=\u001b[39m [particle_generator([  \u001b[38;5;124m'\u001b[39m\u001b[38;5;124mquark\u001b[39m\u001b[38;5;124m'\u001b[39m     \u001b[38;5;124m'\u001b[39m\u001b[38;5;124mcharm\u001b[39m\u001b[38;5;124m'\u001b[39m, \u001b[38;5;28;01mNone\u001b[39;00m, \u001b[38;5;241m+\u001b[39m\u001b[38;5;241m2\u001b[39m\u001b[38;5;241m/\u001b[39m\u001b[38;5;241m3\u001b[39m, [Boson\u001b[38;5;241m.\u001b[39mSubParticles\u001b[38;5;241m.\u001b[39mgluons]])]\n",
      "\u001b[0;31mTypeError\u001b[0m: particle_generator() missing 3 required positional arguments: '_1', '_2', and '_3'"
     ]
    }
   ],
   "source": [
    "particles  = []\n",
    "particles += [particle_generator([  'quark',       'up',  2.3, +2/3, [Boson.SubParticles.gluons]])]\n",
    "particles += [particle_generator([  'quark',     'down',  4.8, -1/3, [Boson.SubParticles.gluons]])]\n",
    "particles += [particle_generator([  'quark'     'charm', None, +2/3, [Boson.SubParticles.gluons]])]\n",
    "particles += [particle_generator([  'quark',  'strange', None, -1/3, [Boson.SubParticles.gluons]])]\n",
    "particles += [particle_generator([  'quark',      'top', None, +2/3, [Boson.SubParticles.gluons]])]\n",
    "particles += [particle_generator([  'quark',   'bottom', None, -1/3, [Boson.SubParticles.gluons]])]\n",
    "particles += [particle_generator(['hadrons',  'protons', None, None, [             ]])]\n",
    "particles += [particle_generator(['hadrons', 'neutrons', None, None, [             ]])]\n",
    "particles += [particle_generator([       '',  'eletron',  1/2, None, [             ]])]\n",
    "print(__annotations__)\n",
    "print(type(__annotations__))"
   ]
  },
  {
   "cell_type": "code",
   "execution_count": null,
   "metadata": {},
   "outputs": [],
   "source": [
    "\"\"\"\n",
    "FORMULAS\n",
    "momento_angular\n",
    "L = m * v * r * sen(θ)\n",
    "θ é o ângulo entre o vetor posição da partícula e o vetor velocidade\n",
    "\n",
    "momento magnético:\n",
    "μ = g * (S * ħ)\n",
    "\"g\" é fator giromagnético, \"S\" é spin e ħ é a constante de Planck dividida por 2π.\n",
    "\n",
    "μ = q * (v x r)(produto vetorial),\n",
    "momento magnetico\n",
    "μ = y * L, # momento angular L\n",
    "y é razão giromagnética #A razão giromagnética é uma constante física que determina a relação entre o momento magnético e o momento angular.\n",
    "#O momento magnético é importante na descrição do comportamento de partículas carregadas em campos magnéticos. Quando uma partícula carregada está sujeita a um campo magnético externo B, ela pode experimentar um torque (força rotacional) devido à interação entre o momento magnético da partícula e o campo magnético aplicado.\n",
    "\"\"\"\n",
    "\n",
    "\"\"\"\n",
    ".FUTURE\n",
    "Black Holy: Gravidade Quântica Entrelaçada (ER = EPR): A Gravidade Quântica Entrelaçada é uma proposta teórica que busca entender a natureza da gravidade quântica, considerando a relação entre o entrelaçamento quântico e os buracos negros. Essa ideia foi proposta com base na correspondência ER = EPR, que estabelece uma conexão entre o entrelaçamento quântico (EPR) e os buracos de minhoca (ER), previstos pela teoria da relatividade geral. A correspondência ER = EPR sugere que pares de partículas entrelaçadas quanticamente podem ser conectados por um buraco de minhoca. Isso tem implicações interessantes para a compreensão da gravidade quântica, pois sugere que o entrelaçamento quântico pode estar relacionado com as propriedades microscópicas do espaço-tempo e da gravidade.\n",
    "\"\"\""
   ]
  }
 ],
 "metadata": {
  "kernelspec": {
   "display_name": "Python 3",
   "language": "python",
   "name": "python3"
  },
  "language_info": {
   "codemirror_mode": {
    "name": "ipython",
    "version": 3
   },
   "file_extension": ".py",
   "mimetype": "text/x-python",
   "name": "python",
   "nbconvert_exporter": "python",
   "pygments_lexer": "ipython3",
   "version": "3.12.1"
  },
  "orig_nbformat": 4
 },
 "nbformat": 4,
 "nbformat_minor": 2
}
